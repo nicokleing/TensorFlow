{
 "cells": [
  {
   "cell_type": "markdown",
   "metadata": {},
   "source": [
    "Ungraded Lab: Improving Computer Vision Accuracy using Convolutions\n",
    "Shallow Neural Network\n",
    "In the previous lessons, you saw how to do fashion recognition using a neural network containing three layers -- the input layer (in the shape of the data), the output layer (in the shape of the desired output) and only one hidden layer. You experimented with the impact of different sizes of hidden layer, number of training epochs etc on the final accuracy. For convenience, here's the entire code again. Run it and take a note of the test accuracy that is printed out at the end."
   ]
  },
  {
   "cell_type": "code",
   "execution_count": 3,
   "metadata": {
    "id": "wllTy3fbLj6A"
   },
   "outputs": [],
   "source": [
    "# Importa TensorFlow como tf\n",
    "import tensorflow as tf\n",
    "\n",
    "# Carga el conjunto de datos Fashion MNIST\n",
    "# Utiliza el objeto fmnist para cargar los datos de entrenamiento y prueba\n",
    "fmnist = tf.keras.datasets.fashion_mnist\n",
    "\n",
    "# Divide los datos en conjuntos de entrenamiento y prueba\n",
    "(training_images, training_labels), (test_images, test_labels) = fmnist.load_data()\n",
    "\n",
    "# Normaliza los valores de píxeles en las imágenes\n",
    "# Dividiendo cada valor de píxel por 255.0 para escalarlos al rango de 0 a 1\n",
    "training_images = training_images / 255.0\n",
    "test_images = test_images / 255.0"
   ]
  },
  {
   "cell_type": "markdown",
   "metadata": {},
   "source": [
    "Convolutional Neural Network\n",
    "In the model above, your accuracy will probably be about 89% on training and 87% on validation. Not bad. But how do you make that even better? One way is to use something called convolutions. We're not going into the details of convolutions in this notebook (please see resources in the classroom), but the ultimate concept is that they narrow down the content of the image to focus on specific parts and this will likely improve the model accuracy.\n",
    "\n",
    "If you've ever done image processing using a filter (like this, then convolutions will look very familiar. In short, you take an array (usually 3x3 or 5x5) and scan it over the entire image. By changing the underlying pixels based on the formula within that matrix, you can do things like edge detection. So, for example, if you look at the above link, you'll see a 3x3 matrix that is defined for edge detection where the middle cell is 8, and all of its neighbors are -1. In this case, for each pixel, you would multiply its value by 8, then subtract the value of each neighbor. Do this for every pixel, and you'll end up with a new image that has the edges enhanced.\n",
    "\n",
    "This is perfect for computer vision because it often highlights features that distinguish one item from another. Moreover, the amount of information needed is then much less because you'll just train on the highlighted features.\n",
    "\n",
    "That's the concept of Convolutional Neural Networks. Add some layers to do convolution before you have the dense layers, and then the information going to the dense layers is more focused and possibly more accurate.\n",
    "\n",
    "Run the code below. This is the same neural network as earlier, but this time with Convolution and MaxPooling layers added first. It will take longer, but look at the impact on the accuracy."
   ]
  },
  {
   "cell_type": "code",
   "execution_count": 4,
   "metadata": {
    "colab": {
     "base_uri": "https://localhost:8080/"
    },
    "id": "4L2o6B3d2uOR",
    "outputId": "2b855d3b-7a8a-4f8a-a2c6-fe663ea6ab4a"
   },
   "outputs": [
    {
     "name": "stdout",
     "output_type": "stream",
     "text": [
      "\n",
      "MODEL TRAINING:\n",
      "Epoch 1/5\n",
      "1875/1875 [==============================] - 3s 1ms/step - loss: 0.5087 - accuracy: 0.8209\n",
      "Epoch 2/5\n",
      "1875/1875 [==============================] - 2s 1ms/step - loss: 0.3750 - accuracy: 0.8650\n",
      "Epoch 3/5\n",
      "1875/1875 [==============================] - 2s 1ms/step - loss: 0.3363 - accuracy: 0.8786\n",
      "Epoch 4/5\n",
      "1875/1875 [==============================] - 2s 1ms/step - loss: 0.3116 - accuracy: 0.8856\n",
      "Epoch 5/5\n",
      "1875/1875 [==============================] - 2s 1ms/step - loss: 0.2934 - accuracy: 0.8927\n",
      "\n",
      "MODEL EVALUATION:\n",
      "313/313 [==============================] - 0s 789us/step - loss: 0.3535 - accuracy: 0.8753\n"
     ]
    }
   ],
   "source": [
    "# Define the model\n",
    "model = tf.keras.models.Sequential([\n",
    "    # Capa de aplanamiento para convertir las imágenes en vectores unidimensionales\n",
    "    tf.keras.layers.Flatten(),\n",
    "\n",
    "    # Capa densa con 128 unidades activadas por 'relu'\n",
    "    tf.keras.layers.Dense(128, activation=tf.nn.relu),\n",
    "\n",
    "    # Capa de salida con 10 unidades activada por 'softmax' (para clasificación)\n",
    "    tf.keras.layers.Dense(10, activation=tf.nn.softmax)\n",
    "])\n",
    "\n",
    "# Configura el modelo para entrenamiento con el optimizador 'adam', función de pérdida 'sparse_categorical_crossentropy' y métrica de 'accuracy'\n",
    "model.compile(optimizer='adam', loss='sparse_categorical_crossentropy', metrics=['accuracy'])\n",
    "\n",
    "# Entrena el modelo en los datos de entrenamiento durante 5 épocas\n",
    "print(f'\\nMODEL TRAINING:')\n",
    "model.fit(training_images, training_labels, epochs=5)\n",
    "\n",
    "# Evalúa el modelo en el conjunto de prueba y muestra la pérdida y la precisión\n",
    "print(f'\\nMODEL EVALUATION:')\n",
    "test_loss = model.evaluate(test_images, test_labels)"
   ]
  },
  {
   "cell_type": "code",
   "execution_count": 5,
   "metadata": {
    "colab": {
     "base_uri": "https://localhost:8080/"
    },
    "id": "IwMUbklF2yL4",
    "outputId": "cfe8f598-67f7-4a85-b2bb-9a1f71f93062"
   },
   "outputs": [
    {
     "name": "stdout",
     "output_type": "stream",
     "text": [
      "WARNING:tensorflow:From C:\\ProgramData\\anaconda3\\Lib\\site-packages\\keras\\src\\layers\\pooling\\max_pooling2d.py:161: The name tf.nn.max_pool is deprecated. Please use tf.nn.max_pool2d instead.\n",
      "\n",
      "Model: \"sequential_2\"\n",
      "_________________________________________________________________\n",
      " Layer (type)                Output Shape              Param #   \n",
      "=================================================================\n",
      " conv2d (Conv2D)             (None, 26, 26, 32)        320       \n",
      "                                                                 \n",
      " max_pooling2d (MaxPooling2  (None, 13, 13, 32)        0         \n",
      " D)                                                              \n",
      "                                                                 \n",
      " conv2d_1 (Conv2D)           (None, 11, 11, 32)        9248      \n",
      "                                                                 \n",
      " max_pooling2d_1 (MaxPoolin  (None, 5, 5, 32)          0         \n",
      " g2D)                                                            \n",
      "                                                                 \n",
      " flatten_2 (Flatten)         (None, 800)               0         \n",
      "                                                                 \n",
      " dense_4 (Dense)             (None, 128)               102528    \n",
      "                                                                 \n",
      " dense_5 (Dense)             (None, 10)                1290      \n",
      "                                                                 \n",
      "=================================================================\n",
      "Total params: 113386 (442.91 KB)\n",
      "Trainable params: 113386 (442.91 KB)\n",
      "Non-trainable params: 0 (0.00 Byte)\n",
      "_________________________________________________________________\n",
      "\n",
      "MODEL TRAINING:\n",
      "Epoch 1/5\n",
      "1875/1875 [==============================] - 7s 4ms/step - loss: 0.4765 - accuracy: 0.8269\n",
      "Epoch 2/5\n",
      "1875/1875 [==============================] - 6s 3ms/step - loss: 0.3177 - accuracy: 0.8850\n",
      "Epoch 3/5\n",
      "1875/1875 [==============================] - 6s 3ms/step - loss: 0.2720 - accuracy: 0.9007\n",
      "Epoch 4/5\n",
      "1875/1875 [==============================] - 6s 3ms/step - loss: 0.2435 - accuracy: 0.9095\n",
      "Epoch 5/5\n",
      "1875/1875 [==============================] - 6s 3ms/step - loss: 0.2197 - accuracy: 0.9182\n",
      "\n",
      "MODEL EVALUATION:\n",
      "313/313 [==============================] - 1s 1ms/step - loss: 0.2607 - accuracy: 0.9044\n"
     ]
    }
   ],
   "source": [
    "# Define the model\n",
    "model = tf.keras.models.Sequential([\n",
    "    # Capa de convolución con 32 filtros de 3x3, activada por 'relu', y especificando la forma de entrada (28x28x1)\n",
    "    tf.keras.layers.Conv2D(32, (3,3), activation='relu', input_shape=(28, 28, 1)),\n",
    "\n",
    "    # Capa de max-pooling con una ventana de 2x2\n",
    "    tf.keras.layers.MaxPooling2D(2, 2),\n",
    "\n",
    "    # Otra capa de convolución con 32 filtros de 3x3, activada por 'relu'\n",
    "    tf.keras.layers.Conv2D(32, (3,3), activation='relu'),\n",
    "\n",
    "    # Otra capa de max-pooling con una ventana de 2x2\n",
    "    tf.keras.layers.MaxPooling2D(2,2),\n",
    "\n",
    "    # Capa de aplanamiento para convertir los mapas de características 2D en un vector 1D\n",
    "    tf.keras.layers.Flatten(),\n",
    "\n",
    "    # Capa densa con 128 unidades activadas por 'relu'\n",
    "    tf.keras.layers.Dense(128, activation='relu'),\n",
    "\n",
    "    # Capa de salida con 10 unidades activada por 'softmax' (para clasificación)\n",
    "    tf.keras.layers.Dense(10, activation='softmax')\n",
    "])\n",
    "\n",
    "# Imprime un resumen del modelo, mostrando las capas y el número de parámetros\n",
    "model.summary()\n",
    "\n",
    "# Configura el modelo para entrenamiento con el optimizador 'adam', función de pérdida 'sparse_categorical_crossentropy' y métrica de 'accuracy'\n",
    "model.compile(optimizer='adam', loss='sparse_categorical_crossentropy', metrics=['accuracy'])\n",
    "\n",
    "# Entrena el modelo en los datos de entrenamiento durante 5 épocas\n",
    "print(f'\\nMODEL TRAINING:')\n",
    "model.fit(training_images, training_labels, epochs=5)\n",
    "\n",
    "# Evalúa el modelo en el conjunto de prueba y muestra la pérdida y la precisión\n",
    "print(f'\\nMODEL EVALUATION:')\n",
    "test_loss = model.evaluate(test_images, test_labels)"
   ]
  },
  {
   "cell_type": "markdown",
   "metadata": {},
   "source": [
    "It's likely gone up to about 92% on the training data and 90% on the validation data. That's significant, and a step in the right direction!\n",
    "\n",
    "Look at the code again, and see, step by step how the convolutions were built. Instead of the input layer at the top, you added a Conv2D layer. The parameters are:\n",
    "\n",
    "The number of convolutions you want to generate. The value here is purely arbitrary but it's good to use powers of 2 starting from 32.\n",
    "The size of the Convolution. In this case, a 3x3 grid.\n",
    "The activation function to use. In this case, you used a ReLU, which you might recall is the equivalent of returning x when x>0, else return 0.\n",
    "In the first layer, the shape of the input data.\n",
    "You'll follow the convolution with a MaxPool2D layer which is designed to compress the image, while maintaining the content of the features that were highlighted by the convolution. By specifying (2,2) for the MaxPooling, the effect is to quarter the size of the image. Without going into too much detail here, the idea is that it creates a 2x2 array of pixels, and picks the biggest one. Thus, it turns 4 pixels into 1. It repeats this across the image, and in doing so, it halves both the number of horizontal and vertical pixels, effectively reducing the image to 25% of the original image.\n",
    "\n",
    "You can call model.summary() to see the size and shape of the network, and you'll notice that after every max pooling layer, the image size is reduced in this way.\n",
    "\n",
    "model = tf.keras.models.Sequential([\n",
    "  tf.keras.layers.Conv2D(32, (3,3), activation='relu', input_shape=(28, 28, 1)),\n",
    "  tf.keras.layers.MaxPooling2D(2, 2),\n",
    "Then you added another convolution and flattened the output.\n",
    "\n",
    "  tf.keras.layers.Conv2D(64, (3,3), activation='relu'),\n",
    "  tf.keras.layers.MaxPooling2D(2,2)\n",
    "  tf.keras.layers.Flatten(),\n",
    "\n",
    "After this, you'll just have the same DNN structure as the non convolutional version. The same dense layer with 128 neurons, and output layer with 10 neurons as in the pre-convolution example:\n",
    "\n",
    "  tf.keras.layers.Dense(128, activation='relu'),\n",
    "  tf.keras.layers.Dense(10, activation='softmax')\n",
    "])\n",
    "About overfitting\n",
    "Try running the training for more epochs -- say about 20, and explore the results. But while the results might seem really good, the validation results may actually go down, due to something called overfitting. In a nutshell, overfitting occurs when the network learns the data from the training set really well, but it's too specialised to only that data, and as a result is less effective at interpreting other unseen data. For example, if all your life you only saw red shoes, then when you see a red shoe you would be very good at identifying it. But blue suede shoes might confuse you... and you know you should never mess with my blue suede shoes.\n",
    "\n",
    "Visualizing the Convolutions and Pooling\n",
    "Let's explore how to show the convolutions graphically. The cell below prints the first 100 labels in the test set, and you can see that the ones at index 0, index 23 and index 28 are all the same value (i.e. 9). They're all shoes. Let's take a look at the result of running the convolution on each, and you'll begin to see common features between them emerge. Now, when the dense layer is training on that data, it's working with a lot less, and it's perhaps finding a commonality between shoes based on this convolution/pooling combination."
   ]
  },
  {
   "cell_type": "code",
   "execution_count": 6,
   "metadata": {
    "colab": {
     "base_uri": "https://localhost:8080/"
    },
    "id": "OroWK_md25oF",
    "outputId": "5601c79e-8956-47bd-f2fc-df4d9c63010a"
   },
   "outputs": [
    {
     "name": "stdout",
     "output_type": "stream",
     "text": [
      "[9 2 1 1 6 1 4 6 5 7 4 5 7 3 4 1 2 4 8 0 2 5 7 9 1 4 6 0 9 3 8 8 3 3 8 0 7\n",
      " 5 7 9 6 1 3 7 6 7 2 1 2 2 4 4 5 8 2 2 8 4 8 0 7 7 8 5 1 1 2 3 9 8 7 0 2 6\n",
      " 2 3 1 2 8 4 1 8 5 9 5 0 3 2 0 6 5 3 6 7 1 8 0 1 4 2]\n"
     ]
    }
   ],
   "source": [
    "\n",
    "print(test_labels[:100])"
   ]
  },
  {
   "cell_type": "markdown",
   "metadata": {
    "id": "LpAS8jBu6YXk"
   },
   "source": [
    "## **Try editing the convolutions. Change the 32s to either 16 or 64. What impact will this have on accuracy and/or training time.**"
   ]
  },
  {
   "cell_type": "markdown",
   "metadata": {
    "id": "Yl9AxHzz6VIL"
   },
   "source": [
    "Editar las convoluciones en una red neuronal convolucional (CNN) puede tener un impacto en la precisión y el tiempo de entrenamiento. Aquí hay una explicación de lo que sucede al cambiar el número de filtros (32s) a 16 o 64:\n",
    "\n",
    "Cambiar de 32 a 16 filtros:\n",
    "\n",
    "Impacto en la precisión: Reducir el número de filtros de 32 a 16 podría llevar a una disminución en la precisión del modelo. Esto se debe a que el modelo tiene menos capacidad para aprender características complejas en las imágenes.\n",
    "Impacto en el tiempo de entrenamiento: Reducir el número de filtros generalmente acelera el tiempo de entrenamiento, ya que hay menos operaciones de convolución que realizar en cada capa. El modelo podría entrenarse más rápido.\n",
    "Cambiar de 32 a 64 filtros:\n",
    "\n",
    "Impacto en la precisión: Aumentar el número de filtros de 32 a 64 podría llevar a un aumento en la precisión del modelo, especialmente si las imágenes son complejas y contienen características detalladas. Esto permite que el modelo capture características más variadas.\n",
    "Impacto en el tiempo de entrenamiento: Aumentar el número de filtros generalmente ralentiza el tiempo de entrenamiento, ya que se realizan más operaciones de convolución en cada capa. El modelo podría requerir más tiempo para converger durante el entrenamiento.\n",
    "En resumen, reducir el número de filtros (por ejemplo, cambiar de 32 a 16) puede acelerar el tiempo de entrenamiento pero posiblemente a costa de la precisión, mientras que aumentar el número de filtros (por ejemplo, cambiar de 32 a 64) puede mejorar la precisión pero posiblemente a costa de un tiempo de entrenamiento más largo. La elección depende de los requisitos específicos del problema y del equilibrio deseado entre precisión y eficiencia. Es recomendable experimentar con diferentes configuraciones y evaluar el rendimiento en datos de prueba para determinar la mejor configuración para su caso."
   ]
  },
  {
   "cell_type": "code",
   "execution_count": 7,
   "metadata": {
    "colab": {
     "base_uri": "https://localhost:8080/"
    },
    "id": "0gk551jo3DdA",
    "outputId": "50bdfd02-4c7d-45c7-cc5b-da6b15c3130b"
   },
   "outputs": [
    {
     "name": "stdout",
     "output_type": "stream",
     "text": [
      "\n",
      "MODEL TRAINING:\n",
      "Epoch 1/5\n",
      "1875/1875 [==============================] - 5s 2ms/step - loss: 0.5262 - accuracy: 0.8087\n",
      "Epoch 2/5\n",
      "1875/1875 [==============================] - 5s 3ms/step - loss: 0.3570 - accuracy: 0.8705\n",
      "Epoch 3/5\n",
      "1875/1875 [==============================] - 5s 2ms/step - loss: 0.3130 - accuracy: 0.8851\n",
      "Epoch 4/5\n",
      "1875/1875 [==============================] - 5s 2ms/step - loss: 0.2829 - accuracy: 0.8966\n",
      "Epoch 5/5\n",
      "1875/1875 [==============================] - 5s 3ms/step - loss: 0.2609 - accuracy: 0.9026\n",
      "\n",
      "MODEL EVALUATION:\n",
      "313/313 [==============================] - 1s 1ms/step - loss: 0.2935 - accuracy: 0.8926\n"
     ]
    }
   ],
   "source": [
    "import tensorflow as tf\n",
    "\n",
    "# Define the model\n",
    "model = tf.keras.models.Sequential([\n",
    "    # Add convolutions and max pooling with 16 filters\n",
    "    tf.keras.layers.Conv2D(16, (3, 3), activation='relu', input_shape=(28, 28, 1)),\n",
    "    tf.keras.layers.MaxPooling2D(2, 2),\n",
    "    tf.keras.layers.Conv2D(16, (3, 3), activation='relu'),\n",
    "    tf.keras.layers.MaxPooling2D(2, 2),\n",
    "\n",
    "    # Add the same layers as before\n",
    "    tf.keras.layers.Flatten(),\n",
    "    tf.keras.layers.Dense(128, activation='relu'),\n",
    "    tf.keras.layers.Dense(10, activation='softmax')\n",
    "])\n",
    "\n",
    "# Compile the model\n",
    "model.compile(optimizer='adam', loss='sparse_categorical_crossentropy', metrics=['accuracy'])\n",
    "\n",
    "# Train the model\n",
    "print(f'\\nMODEL TRAINING:')\n",
    "model.fit(training_images, training_labels, epochs=5)\n",
    "\n",
    "# Evaluate on the test set\n",
    "print(f'\\nMODEL EVALUATION:')\n",
    "test_loss = model.evaluate(test_images, test_labels)\n"
   ]
  },
  {
   "cell_type": "code",
   "execution_count": 8,
   "metadata": {
    "colab": {
     "base_uri": "https://localhost:8080/"
    },
    "id": "0uK7_hEp57oD",
    "outputId": "3c6a26a8-7597-4271-b697-954a46ced3fa"
   },
   "outputs": [
    {
     "name": "stdout",
     "output_type": "stream",
     "text": [
      "\n",
      "MODEL TRAINING:\n",
      "Epoch 1/5\n",
      "1875/1875 [==============================] - 10s 5ms/step - loss: 0.4396 - accuracy: 0.8415\n",
      "Epoch 2/5\n",
      "1875/1875 [==============================] - 10s 5ms/step - loss: 0.2932 - accuracy: 0.8916\n",
      "Epoch 3/5\n",
      "1875/1875 [==============================] - 10s 6ms/step - loss: 0.2473 - accuracy: 0.9081\n",
      "Epoch 4/5\n",
      "1875/1875 [==============================] - 10s 5ms/step - loss: 0.2178 - accuracy: 0.9187\n",
      "Epoch 5/5\n",
      "1875/1875 [==============================] - 10s 5ms/step - loss: 0.1906 - accuracy: 0.9285\n",
      "\n",
      "MODEL EVALUATION:\n",
      "313/313 [==============================] - 1s 2ms/step - loss: 0.2549 - accuracy: 0.9040\n"
     ]
    }
   ],
   "source": [
    "import tensorflow as tf\n",
    "\n",
    "# Define the model with 64 filters\n",
    "model = tf.keras.models.Sequential([\n",
    "    # Add convolutions and max pooling with 64 filters\n",
    "    tf.keras.layers.Conv2D(64, (3, 3), activation='relu', input_shape=(28, 28, 1)),\n",
    "    tf.keras.layers.MaxPooling2D(2, 2),\n",
    "    tf.keras.layers.Conv2D(64, (3, 3), activation='relu'),\n",
    "    tf.keras.layers.MaxPooling2D(2, 2),\n",
    "\n",
    "    # Add the same layers as before\n",
    "    tf.keras.layers.Flatten(),\n",
    "    tf.keras.layers.Dense(128, activation='relu'),\n",
    "    tf.keras.layers.Dense(10, activation='softmax')\n",
    "])\n",
    "\n",
    "# Compile the model\n",
    "model.compile(optimizer='adam', loss='sparse_categorical_crossentropy', metrics=['accuracy'])\n",
    "\n",
    "# Train the model\n",
    "print(f'\\nMODEL TRAINING:')\n",
    "model.fit(training_images, training_labels, epochs=5)\n",
    "\n",
    "# Evaluate on the test set\n",
    "print(f'\\nMODEL EVALUATION:')\n",
    "test_loss = model.evaluate(test_images, test_labels)\n"
   ]
  },
  {
   "cell_type": "markdown",
   "metadata": {
    "id": "UEvD9LhZ6s37"
   },
   "source": [
    "## **Remove the final Convolution. What impact will this have on accuracy or training time?**"
   ]
  },
  {
   "cell_type": "markdown",
   "metadata": {
    "id": "PQ0ipe8N6pFz"
   },
   "source": [
    "Removing the final convolutional layer from the model will likely have the following impact:\n",
    "\n",
    "Impact on Accuracy:\n",
    "\n",
    "The final convolutional layer is responsible for capturing higher-level and more abstract features from the data. Removing it may result in a reduction in the model's ability to learn complex patterns and features.\n",
    "As a result, the accuracy of the model on the test data may decrease because it has fewer layers to extract relevant information from the images.\n",
    "Impact on Training Time:\n",
    "\n",
    "Removing a layer typically reduces the computational load during training, which can lead to a shorter training time. Without the final convolutional layer, there are fewer parameters to update during each training iteration.\n",
    "Training the model is likely to be faster compared to the original model with the final convolutional layer."
   ]
  },
  {
   "cell_type": "code",
   "execution_count": 9,
   "metadata": {
    "colab": {
     "base_uri": "https://localhost:8080/"
    },
    "id": "qmmRgLDE5-JR",
    "outputId": "6718d934-f3c1-40f2-be57-51cd5c43ac5b"
   },
   "outputs": [
    {
     "name": "stdout",
     "output_type": "stream",
     "text": [
      "\n",
      "MODEL TRAINING:\n",
      "Epoch 1/5\n",
      "1875/1875 [==============================] - 7s 4ms/step - loss: 0.4688 - accuracy: 0.8297\n",
      "Epoch 2/5\n",
      "1875/1875 [==============================] - 6s 3ms/step - loss: 0.3178 - accuracy: 0.8837\n",
      "Epoch 3/5\n",
      "1875/1875 [==============================] - 7s 4ms/step - loss: 0.2723 - accuracy: 0.8994\n",
      "Epoch 4/5\n",
      "1875/1875 [==============================] - 6s 3ms/step - loss: 0.2437 - accuracy: 0.9101\n",
      "Epoch 5/5\n",
      "1875/1875 [==============================] - 6s 3ms/step - loss: 0.2183 - accuracy: 0.9186\n",
      "\n",
      "MODEL EVALUATION:\n",
      "313/313 [==============================] - 1s 1ms/step - loss: 0.2710 - accuracy: 0.9022\n"
     ]
    }
   ],
   "source": [
    "import tensorflow as tf\n",
    "\n",
    "# Define the model without the final Convolutional layer\n",
    "model = tf.keras.models.Sequential([\n",
    "    # Add convolutions and max pooling with 32 filters\n",
    "    tf.keras.layers.Conv2D(32, (3, 3), activation='relu', input_shape=(28, 28, 1)),\n",
    "    tf.keras.layers.MaxPooling2D(2, 2),\n",
    "    tf.keras.layers.Conv2D(32, (3, 3), activation='relu'),\n",
    "    tf.keras.layers.MaxPooling2D(2, 2),\n",
    "\n",
    "    # Remove the final Convolutional layer\n",
    "\n",
    "    # Add the same layers as before\n",
    "    tf.keras.layers.Flatten(),\n",
    "    tf.keras.layers.Dense(128, activation='relu'),\n",
    "    tf.keras.layers.Dense(10, activation='softmax')\n",
    "])\n",
    "\n",
    "# Compile the model\n",
    "model.compile(optimizer='adam', loss='sparse_categorical_crossentropy', metrics=['accuracy'])\n",
    "\n",
    "# Train the model\n",
    "print(f'\\nMODEL TRAINING:')\n",
    "model.fit(training_images, training_labels, epochs=5)\n",
    "\n",
    "# Evaluate on the test set\n",
    "print(f'\\nMODEL EVALUATION:')\n",
    "test_loss = model.evaluate(test_images, test_labels)\n"
   ]
  },
  {
   "cell_type": "markdown",
   "metadata": {
    "id": "jYGItp7U7Cze"
   },
   "source": [
    "How about adding more Convolutions? What impact do you think this will have? Experiment with it."
   ]
  },
  {
   "cell_type": "markdown",
   "metadata": {
    "id": "uNYUXmND7AHN"
   },
   "source": []
  },
  {
   "cell_type": "markdown",
   "metadata": {
    "id": "Bhfqeu0Q7R13"
   },
   "source": [
    "Adding more convolutional layers to a neural network can have several impacts:\n",
    "\n",
    "Increased Capacity for Feature Extraction: Additional convolutional layers provide the model with more opportunities to learn hierarchical features. Deeper layers can capture increasingly abstract and complex patterns in the input data.\n",
    "\n",
    "Risk of Overfitting: While deeper networks can potentially achieve higher accuracy on the training data, there is an increased risk of overfitting. Overfitting occurs when the model learns to perform well on the training data but fails to generalize to unseen data.\n",
    "\n",
    "Increased Training Time: Deeper networks with more convolutional layers typically require more time to train due to the increased number of parameters and computations.\n",
    "\n",
    "Potential Improvement in Accuracy: If the dataset and task require a more complex representation of features, adding more convolutional layers may lead to improved accuracy on both the training and test datasets."
   ]
  },
  {
   "cell_type": "code",
   "execution_count": 10,
   "metadata": {
    "id": "A2XnwlLI7NKP"
   },
   "outputs": [
    {
     "name": "stdout",
     "output_type": "stream",
     "text": [
      "\n",
      "MODEL TRAINING:\n",
      "Epoch 1/5\n",
      "1875/1875 [==============================] - 8s 4ms/step - loss: 0.6121 - accuracy: 0.7726\n",
      "Epoch 2/5\n",
      "1875/1875 [==============================] - 8s 4ms/step - loss: 0.4096 - accuracy: 0.8494\n",
      "Epoch 3/5\n",
      "1875/1875 [==============================] - 7s 4ms/step - loss: 0.3532 - accuracy: 0.8703\n",
      "Epoch 4/5\n",
      "1875/1875 [==============================] - 7s 4ms/step - loss: 0.3191 - accuracy: 0.8820\n",
      "Epoch 5/5\n",
      "1875/1875 [==============================] - 7s 4ms/step - loss: 0.2945 - accuracy: 0.8896\n",
      "\n",
      "MODEL EVALUATION:\n",
      "313/313 [==============================] - 1s 2ms/step - loss: 0.3358 - accuracy: 0.8799\n"
     ]
    }
   ],
   "source": [
    "import tensorflow as tf\n",
    "\n",
    "# Define the model with additional Convolutional layers\n",
    "model = tf.keras.models.Sequential([\n",
    "    # Add more convolutions and max pooling with 32 filters\n",
    "    tf.keras.layers.Conv2D(32, (3, 3), activation='relu', input_shape=(28, 28, 1)),\n",
    "    tf.keras.layers.MaxPooling2D(2, 2),\n",
    "    tf.keras.layers.Conv2D(32, (3, 3), activation='relu'),\n",
    "    tf.keras.layers.MaxPooling2D(2, 2),\n",
    "    tf.keras.layers.Conv2D(64, (3, 3), activation='relu'),  # Additional convolutional layer\n",
    "    tf.keras.layers.MaxPooling2D(2, 2),                      # Additional max pooling layer\n",
    "\n",
    "    # Add the same layers as before\n",
    "    tf.keras.layers.Flatten(),\n",
    "    tf.keras.layers.Dense(128, activation='relu'),\n",
    "    tf.keras.layers.Dense(10, activation='softmax')\n",
    "])\n",
    "\n",
    "# Compile the model\n",
    "model.compile(optimizer='adam', loss='sparse_categorical_crossentropy', metrics=['accuracy'])\n",
    "\n",
    "# Train the model\n",
    "print(f'\\nMODEL TRAINING:')\n",
    "model.fit(training_images, training_labels, epochs=5)\n",
    "\n",
    "# Evaluate on the test set\n",
    "print(f'\\nMODEL EVALUATION:')\n",
    "test_loss = model.evaluate(test_images, test_labels)\n"
   ]
  },
  {
   "cell_type": "markdown",
   "metadata": {
    "id": "pQY06UdM7tkL"
   },
   "source": [
    "Removing all convolutional layers except the first one will likely have the following impact:\n",
    "\n",
    "Reduced Capacity for Feature Extraction: With only one convolutional layer, the model's capacity for capturing complex and hierarchical features from the input data will be significantly reduced. It may struggle to learn intricate patterns in the data.\n",
    "\n",
    "Decreased Model Depth: Removing convolutional layers reduces the depth of the neural network. Deeper networks often have the potential to learn more abstract representations, so this change may result in a simpler model.\n",
    "\n",
    "Faster Training Time: Fewer layers mean fewer parameters to update during training, leading to a shorter training time.\n",
    "\n",
    "Potential Decrease in Accuracy: Depending on the complexity of the dataset and task, removing convolutional layers may lead to a decrease in accuracy, especially if the data requires multiple levels of feature extraction."
   ]
  },
  {
   "cell_type": "code",
   "execution_count": 11,
   "metadata": {
    "id": "sg_kXZMJ7udh"
   },
   "outputs": [
    {
     "name": "stdout",
     "output_type": "stream",
     "text": [
      "\n",
      "MODEL TRAINING:\n",
      "Epoch 1/5\n",
      "1875/1875 [==============================] - 7s 3ms/step - loss: 0.3884 - accuracy: 0.8628\n",
      "Epoch 2/5\n",
      "1875/1875 [==============================] - 6s 3ms/step - loss: 0.2639 - accuracy: 0.9040\n",
      "Epoch 3/5\n",
      "1875/1875 [==============================] - 6s 3ms/step - loss: 0.2186 - accuracy: 0.9182\n",
      "Epoch 4/5\n",
      "1875/1875 [==============================] - 6s 3ms/step - loss: 0.1858 - accuracy: 0.9313\n",
      "Epoch 5/5\n",
      "1875/1875 [==============================] - 6s 3ms/step - loss: 0.1582 - accuracy: 0.9412\n",
      "\n",
      "MODEL EVALUATION:\n",
      "313/313 [==============================] - 0s 1ms/step - loss: 0.2514 - accuracy: 0.9129\n"
     ]
    }
   ],
   "source": [
    "import tensorflow as tf\n",
    "\n",
    "# Define the model with only the first Convolutional layer\n",
    "model = tf.keras.models.Sequential([\n",
    "    # Keep the first convolution and max pooling layers\n",
    "    tf.keras.layers.Conv2D(32, (3, 3), activation='relu', input_shape=(28, 28, 1)),\n",
    "    tf.keras.layers.MaxPooling2D(2, 2),\n",
    "\n",
    "    # Remove all other Convolutional layers\n",
    "\n",
    "    # Add the same layers as before\n",
    "    tf.keras.layers.Flatten(),\n",
    "    tf.keras.layers.Dense(128, activation='relu'),\n",
    "    tf.keras.layers.Dense(10, activation='softmax')\n",
    "])\n",
    "\n",
    "# Compile the model\n",
    "model.compile(optimizer='adam', loss='sparse_categorical_crossentropy', metrics=['accuracy'])\n",
    "\n",
    "# Train the model\n",
    "print(f'\\nMODEL TRAINING:')\n",
    "model.fit(training_images, training_labels, epochs=5)\n",
    "\n",
    "# Evaluate on the test set\n",
    "print(f'\\nMODEL EVALUATION:')\n",
    "test_loss = model.evaluate(test_images, test_labels)\n"
   ]
  },
  {
   "cell_type": "markdown",
   "metadata": {
    "id": "zE133gTA79kr"
   },
   "source": [
    "In the previous lesson you implemented a callback to check on the loss function and to cancel training once it hit a certain amount. See if you can implement that here."
   ]
  },
  {
   "cell_type": "code",
   "execution_count": 12,
   "metadata": {
    "id": "XshMDGKg7cua"
   },
   "outputs": [
    {
     "name": "stdout",
     "output_type": "stream",
     "text": [
      "\n",
      "MODEL TRAINING:\n",
      "Epoch 1/5\n",
      "1875/1875 [==============================] - 7s 4ms/step - loss: 0.4872 - accuracy: 0.8234\n",
      "Epoch 2/5\n",
      "1875/1875 [==============================] - 6s 3ms/step - loss: 0.3234 - accuracy: 0.8804\n",
      "Epoch 3/5\n",
      "1875/1875 [==============================] - 6s 3ms/step - loss: 0.2792 - accuracy: 0.8972\n",
      "Epoch 4/5\n",
      "1875/1875 [==============================] - 7s 4ms/step - loss: 0.2488 - accuracy: 0.9072\n",
      "Epoch 5/5\n",
      "1875/1875 [==============================] - 7s 4ms/step - loss: 0.2223 - accuracy: 0.9176\n",
      "\n",
      "MODEL EVALUATION:\n",
      "313/313 [==============================] - 1s 2ms/step - loss: 0.2722 - accuracy: 0.9012\n"
     ]
    }
   ],
   "source": [
    "import tensorflow as tf\n",
    "\n",
    "# Define a custom callback\n",
    "class MyCallback(tf.keras.callbacks.Callback):\n",
    "    def on_epoch_end(self, epoch, logs={}):\n",
    "        if logs.get('loss') is not None and logs['loss'] < 0.01:  # Adjust the loss threshold as needed\n",
    "            print(\"\\nReached the desired loss, so cancelling training!\")\n",
    "            self.model.stop_training = True\n",
    "\n",
    "# Define the model\n",
    "model = tf.keras.models.Sequential([\n",
    "    tf.keras.layers.Conv2D(32, (3, 3), activation='relu', input_shape=(28, 28, 1)),\n",
    "    tf.keras.layers.MaxPooling2D(2, 2),\n",
    "    tf.keras.layers.Conv2D(32, (3, 3), activation='relu'),\n",
    "    tf.keras.layers.MaxPooling2D(2, 2),\n",
    "    tf.keras.layers.Flatten(),\n",
    "    tf.keras.layers.Dense(128, activation='relu'),\n",
    "    tf.keras.layers.Dense(10, activation='softmax')\n",
    "])\n",
    "\n",
    "# Compile the model\n",
    "model.compile(optimizer='adam', loss='sparse_categorical_crossentropy', metrics=['accuracy'])\n",
    "\n",
    "# Create an instance of the custom callback\n",
    "my_callback = MyCallback()\n",
    "\n",
    "# Train the model with the custom callback\n",
    "print(f'\\nMODEL TRAINING:')\n",
    "model.fit(training_images, training_labels, epochs=5, callbacks=[my_callback])\n",
    "\n",
    "# Evaluate on the test set\n",
    "print(f'\\nMODEL EVALUATION:')\n",
    "test_loss = model.evaluate(test_images, test_labels)\n"
   ]
  },
  {
   "cell_type": "code",
   "execution_count": null,
   "metadata": {
    "id": "rV2hK61K8B02"
   },
   "outputs": [],
   "source": []
  }
 ],
 "metadata": {
  "colab": {
   "provenance": []
  },
  "kernelspec": {
   "display_name": "Python 3 (ipykernel)",
   "language": "python",
   "name": "python3"
  },
  "language_info": {
   "codemirror_mode": {
    "name": "ipython",
    "version": 3
   },
   "file_extension": ".py",
   "mimetype": "text/x-python",
   "name": "python",
   "nbconvert_exporter": "python",
   "pygments_lexer": "ipython3",
   "version": "3.11.5"
  }
 },
 "nbformat": 4,
 "nbformat_minor": 1
}
